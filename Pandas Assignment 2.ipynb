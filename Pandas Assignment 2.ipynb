{
 "cells": [
  {
   "cell_type": "code",
   "execution_count": 1,
   "id": "030c1c06-daa2-4ca2-aaca-b610f7c0b77d",
   "metadata": {},
   "outputs": [],
   "source": [
    "# 1 Ans. \n",
    "# 'read_csv()`: Load data from a CSV file.\n",
    "# `fillna()`: Replace missing values in a DataFrame.\n",
    "# `mean()`: Calculate the mean of a Series or DataFrame.\n",
    "# `std()`: Calculate the standard deviation of a Series or DataFrame.\n",
    "# `describe()`: Calculate summary statistics for a Series or DataFrame."
   ]
  },
  {
   "cell_type": "code",
   "execution_count": 1,
   "id": "c46b499b-8f87-492b-8184-4ad061ed5239",
   "metadata": {},
   "outputs": [
    {
     "name": "stdout",
     "output_type": "stream",
     "text": [
      "Requirement already satisfied: pandas in /opt/conda/lib/python3.10/site-packages (1.5.2)\n",
      "Requirement already satisfied: python-dateutil>=2.8.1 in /opt/conda/lib/python3.10/site-packages (from pandas) (2.8.2)\n",
      "Requirement already satisfied: pytz>=2020.1 in /opt/conda/lib/python3.10/site-packages (from pandas) (2022.6)\n",
      "Requirement already satisfied: numpy>=1.21.0 in /opt/conda/lib/python3.10/site-packages (from pandas) (1.23.5)\n",
      "Requirement already satisfied: six>=1.5 in /opt/conda/lib/python3.10/site-packages (from python-dateutil>=2.8.1->pandas) (1.16.0)\n",
      "Note: you may need to restart the kernel to use updated packages.\n"
     ]
    }
   ],
   "source": [
    "pip install pandas"
   ]
  },
  {
   "cell_type": "code",
   "execution_count": 1,
   "id": "7720ac25-7786-497b-a6fd-9ae0f1f7e5fc",
   "metadata": {},
   "outputs": [],
   "source": [
    "import pandas as pd"
   ]
  },
  {
   "cell_type": "code",
   "execution_count": 4,
   "id": "682e815b-a444-45f8-a3ab-ec35620ec7c2",
   "metadata": {},
   "outputs": [],
   "source": [
    "df=pd.read_excel(\"Book5.xlsx\")"
   ]
  },
  {
   "cell_type": "code",
   "execution_count": 6,
   "id": "0a22f3c1-a612-403d-9658-c32f85e01966",
   "metadata": {},
   "outputs": [
    {
     "data": {
      "text/html": [
       "<div>\n",
       "<style scoped>\n",
       "    .dataframe tbody tr th:only-of-type {\n",
       "        vertical-align: middle;\n",
       "    }\n",
       "\n",
       "    .dataframe tbody tr th {\n",
       "        vertical-align: top;\n",
       "    }\n",
       "\n",
       "    .dataframe thead th {\n",
       "        text-align: right;\n",
       "    }\n",
       "</style>\n",
       "<table border=\"1\" class=\"dataframe\">\n",
       "  <thead>\n",
       "    <tr style=\"text-align: right;\">\n",
       "      <th></th>\n",
       "      <th>Unnamed: 0</th>\n",
       "      <th>A</th>\n",
       "      <th>B</th>\n",
       "      <th>C</th>\n",
       "    </tr>\n",
       "  </thead>\n",
       "  <tbody>\n",
       "    <tr>\n",
       "      <th>0</th>\n",
       "      <td>1</td>\n",
       "      <td>Name</td>\n",
       "      <td>Place</td>\n",
       "      <td>Number</td>\n",
       "    </tr>\n",
       "    <tr>\n",
       "      <th>1</th>\n",
       "      <td>2</td>\n",
       "      <td>Bakhtiar</td>\n",
       "      <td>Kolkata</td>\n",
       "      <td>9123611241</td>\n",
       "    </tr>\n",
       "    <tr>\n",
       "      <th>2</th>\n",
       "      <td>3</td>\n",
       "      <td>Altaf</td>\n",
       "      <td>Hyderabad</td>\n",
       "      <td>8443077651</td>\n",
       "    </tr>\n",
       "    <tr>\n",
       "      <th>3</th>\n",
       "      <td>4</td>\n",
       "      <td>Ajaz</td>\n",
       "      <td>chennai</td>\n",
       "      <td>7894561231</td>\n",
       "    </tr>\n",
       "    <tr>\n",
       "      <th>4</th>\n",
       "      <td>5</td>\n",
       "      <td>Saif</td>\n",
       "      <td>Ranchi</td>\n",
       "      <td>7418529637</td>\n",
       "    </tr>\n",
       "  </tbody>\n",
       "</table>\n",
       "</div>"
      ],
      "text/plain": [
       "   Unnamed: 0         A          B           C\n",
       "0           1      Name      Place      Number\n",
       "1           2  Bakhtiar    Kolkata  9123611241\n",
       "2           3     Altaf  Hyderabad  8443077651\n",
       "3           4      Ajaz    chennai  7894561231\n",
       "4           5      Saif     Ranchi  7418529637"
      ]
     },
     "execution_count": 6,
     "metadata": {},
     "output_type": "execute_result"
    }
   ],
   "source": [
    "df.reindex()"
   ]
  },
  {
   "cell_type": "code",
   "execution_count": 10,
   "id": "b7c9268f-fc58-4fb8-868a-6c4d45190c1d",
   "metadata": {},
   "outputs": [],
   "source": [
    "std_data=[(15,\"Varun\",30,\"male\",\"Chandigarh\"),(20,\"Bakhtiar\",30,\"male\",\"Kolkata\"),(25,\"Rabia\",22,\"Female\",\"Hyderabad\")]"
   ]
  },
  {
   "cell_type": "code",
   "execution_count": 11,
   "id": "1666844c-56cf-4fdf-9ea8-e11d5197e745",
   "metadata": {},
   "outputs": [],
   "source": [
    "df=pd.DataFrame(std_data,columns=[\"Values\",\"Name\",\"Age\",\"Gender\",\"address\"])"
   ]
  },
  {
   "cell_type": "code",
   "execution_count": 12,
   "id": "ee503957-3c5e-4ebe-a0e0-0a0500c93450",
   "metadata": {},
   "outputs": [
    {
     "data": {
      "text/html": [
       "<div>\n",
       "<style scoped>\n",
       "    .dataframe tbody tr th:only-of-type {\n",
       "        vertical-align: middle;\n",
       "    }\n",
       "\n",
       "    .dataframe tbody tr th {\n",
       "        vertical-align: top;\n",
       "    }\n",
       "\n",
       "    .dataframe thead th {\n",
       "        text-align: right;\n",
       "    }\n",
       "</style>\n",
       "<table border=\"1\" class=\"dataframe\">\n",
       "  <thead>\n",
       "    <tr style=\"text-align: right;\">\n",
       "      <th></th>\n",
       "      <th>Values</th>\n",
       "      <th>Name</th>\n",
       "      <th>Age</th>\n",
       "      <th>Gender</th>\n",
       "      <th>address</th>\n",
       "    </tr>\n",
       "  </thead>\n",
       "  <tbody>\n",
       "    <tr>\n",
       "      <th>0</th>\n",
       "      <td>15</td>\n",
       "      <td>Varun</td>\n",
       "      <td>30</td>\n",
       "      <td>male</td>\n",
       "      <td>Chandigarh</td>\n",
       "    </tr>\n",
       "    <tr>\n",
       "      <th>1</th>\n",
       "      <td>20</td>\n",
       "      <td>Bakhtiar</td>\n",
       "      <td>30</td>\n",
       "      <td>male</td>\n",
       "      <td>Kolkata</td>\n",
       "    </tr>\n",
       "    <tr>\n",
       "      <th>2</th>\n",
       "      <td>25</td>\n",
       "      <td>Rabia</td>\n",
       "      <td>22</td>\n",
       "      <td>Female</td>\n",
       "      <td>Hyderabad</td>\n",
       "    </tr>\n",
       "  </tbody>\n",
       "</table>\n",
       "</div>"
      ],
      "text/plain": [
       "   Values      Name  Age  Gender     address\n",
       "0      15     Varun   30    male  Chandigarh\n",
       "1      20  Bakhtiar   30    male     Kolkata\n",
       "2      25     Rabia   22  Female   Hyderabad"
      ]
     },
     "execution_count": 12,
     "metadata": {},
     "output_type": "execute_result"
    }
   ],
   "source": [
    "df"
   ]
  },
  {
   "cell_type": "code",
   "execution_count": 13,
   "id": "fd4e6c73-ff17-4a55-becd-1ac211c344ef",
   "metadata": {},
   "outputs": [
    {
     "data": {
      "text/plain": [
       "60"
      ]
     },
     "execution_count": 13,
     "metadata": {},
     "output_type": "execute_result"
    }
   ],
   "source": [
    "df[\"Values\"][0:3].sum()"
   ]
  },
  {
   "cell_type": "code",
   "execution_count": 14,
   "id": "2470a21c-0354-4928-aa1e-9a6853d67e6c",
   "metadata": {},
   "outputs": [],
   "source": [
    "data=[(\"Cat\",\"Kolkata\",9123611241),(\"dog\",\"Goa\",8546114778)]"
   ]
  },
  {
   "cell_type": "code",
   "execution_count": 15,
   "id": "c642544c-ec69-4bda-af7c-d434a7ca6e72",
   "metadata": {},
   "outputs": [],
   "source": [
    "df1=pd.DataFrame(data,columns=[\"Text\",\"Place\",\"Number\"])"
   ]
  },
  {
   "cell_type": "code",
   "execution_count": 15,
   "id": "40d0ef67-5ecc-47e8-82f2-af14e9a46321",
   "metadata": {},
   "outputs": [
    {
     "data": {
      "text/html": [
       "<div>\n",
       "<style scoped>\n",
       "    .dataframe tbody tr th:only-of-type {\n",
       "        vertical-align: middle;\n",
       "    }\n",
       "\n",
       "    .dataframe tbody tr th {\n",
       "        vertical-align: top;\n",
       "    }\n",
       "\n",
       "    .dataframe thead th {\n",
       "        text-align: right;\n",
       "    }\n",
       "</style>\n",
       "<table border=\"1\" class=\"dataframe\">\n",
       "  <thead>\n",
       "    <tr style=\"text-align: right;\">\n",
       "      <th></th>\n",
       "      <th>Text</th>\n",
       "      <th>Place</th>\n",
       "      <th>Number</th>\n",
       "    </tr>\n",
       "  </thead>\n",
       "  <tbody>\n",
       "    <tr>\n",
       "      <th>0</th>\n",
       "      <td>Cat</td>\n",
       "      <td>Kolkata</td>\n",
       "      <td>9123611241</td>\n",
       "    </tr>\n",
       "    <tr>\n",
       "      <th>1</th>\n",
       "      <td>dog</td>\n",
       "      <td>Goa</td>\n",
       "      <td>8546114778</td>\n",
       "    </tr>\n",
       "  </tbody>\n",
       "</table>\n",
       "</div>"
      ],
      "text/plain": [
       "  Text    Place      Number\n",
       "0  Cat  Kolkata  9123611241\n",
       "1  dog      Goa  8546114778"
      ]
     },
     "execution_count": 15,
     "metadata": {},
     "output_type": "execute_result"
    }
   ],
   "source": [
    "df1"
   ]
  },
  {
   "cell_type": "code",
   "execution_count": 27,
   "id": "e3628b97-0987-46d1-a001-6fd98dbc911d",
   "metadata": {},
   "outputs": [],
   "source": [
    "df1[\"Word_count\"]=len(df1[\"Text\"])"
   ]
  },
  {
   "cell_type": "code",
   "execution_count": 28,
   "id": "a9f9bbfe-1d5f-415f-9726-8232b9bfd0ee",
   "metadata": {},
   "outputs": [
    {
     "data": {
      "text/html": [
       "<div>\n",
       "<style scoped>\n",
       "    .dataframe tbody tr th:only-of-type {\n",
       "        vertical-align: middle;\n",
       "    }\n",
       "\n",
       "    .dataframe tbody tr th {\n",
       "        vertical-align: top;\n",
       "    }\n",
       "\n",
       "    .dataframe thead th {\n",
       "        text-align: right;\n",
       "    }\n",
       "</style>\n",
       "<table border=\"1\" class=\"dataframe\">\n",
       "  <thead>\n",
       "    <tr style=\"text-align: right;\">\n",
       "      <th></th>\n",
       "      <th>Text</th>\n",
       "      <th>Place</th>\n",
       "      <th>Number</th>\n",
       "      <th>Word_count</th>\n",
       "    </tr>\n",
       "  </thead>\n",
       "  <tbody>\n",
       "    <tr>\n",
       "      <th>0</th>\n",
       "      <td>Cat</td>\n",
       "      <td>Kolkata</td>\n",
       "      <td>9123611241</td>\n",
       "      <td>2</td>\n",
       "    </tr>\n",
       "    <tr>\n",
       "      <th>1</th>\n",
       "      <td>dog</td>\n",
       "      <td>Goa</td>\n",
       "      <td>8546114778</td>\n",
       "      <td>2</td>\n",
       "    </tr>\n",
       "  </tbody>\n",
       "</table>\n",
       "</div>"
      ],
      "text/plain": [
       "  Text    Place      Number  Word_count\n",
       "0  Cat  Kolkata  9123611241           2\n",
       "1  dog      Goa  8546114778           2"
      ]
     },
     "execution_count": 28,
     "metadata": {},
     "output_type": "execute_result"
    }
   ],
   "source": [
    "df1"
   ]
  },
  {
   "cell_type": "code",
   "execution_count": 29,
   "id": "e679e494-7234-4309-b6ad-047c8a6d3fa0",
   "metadata": {},
   "outputs": [],
   "source": [
    "# 5. Ans \n",
    "\n",
    "# DataFrame.shape\n",
    "# Return a tuple representing the dimensionality of the DataFrame.\n",
    "\n",
    "# DataFrame.size\n",
    "# Return an int representing the number of elements in this object."
   ]
  },
  {
   "cell_type": "code",
   "execution_count": 18,
   "id": "1a91e558-8215-4167-a7c4-cb66fe5a4631",
   "metadata": {},
   "outputs": [],
   "source": [
    "df2=pd.read_excel(\"Book5.xlsx\")"
   ]
  },
  {
   "cell_type": "code",
   "execution_count": 19,
   "id": "f1dc942e-a2c4-4d6a-8a26-49dcf63e56f1",
   "metadata": {},
   "outputs": [],
   "source": [
    "data1={\"email\":[\"bahti@domain.com\",\"altaf@domain.com\",\"rabia@domain.com\"],\n",
    "      \"Number\":[78946,85214,963258]\n",
    "      }\n"
   ]
  },
  {
   "cell_type": "code",
   "execution_count": 20,
   "id": "56d2c2a1-375f-4a2e-9964-b7ac4aab4f80",
   "metadata": {},
   "outputs": [],
   "source": [
    "df3=pd.DataFrame(data1)"
   ]
  },
  {
   "cell_type": "code",
   "execution_count": 25,
   "id": "3f0388d9-57ff-4471-8bf5-e55439b67656",
   "metadata": {},
   "outputs": [],
   "source": [
    "df3[\"username\"]=df3[\"email\"]\n"
   ]
  },
  {
   "cell_type": "code",
   "execution_count": 24,
   "id": "75d3ec77-ecdb-4fb2-a37a-07d3b997e88f",
   "metadata": {},
   "outputs": [
    {
     "data": {
      "text/html": [
       "<div>\n",
       "<style scoped>\n",
       "    .dataframe tbody tr th:only-of-type {\n",
       "        vertical-align: middle;\n",
       "    }\n",
       "\n",
       "    .dataframe tbody tr th {\n",
       "        vertical-align: top;\n",
       "    }\n",
       "\n",
       "    .dataframe thead th {\n",
       "        text-align: right;\n",
       "    }\n",
       "</style>\n",
       "<table border=\"1\" class=\"dataframe\">\n",
       "  <thead>\n",
       "    <tr style=\"text-align: right;\">\n",
       "      <th></th>\n",
       "      <th>email</th>\n",
       "      <th>Number</th>\n",
       "      <th>username</th>\n",
       "    </tr>\n",
       "  </thead>\n",
       "  <tbody>\n",
       "    <tr>\n",
       "      <th>0</th>\n",
       "      <td>bahti@domain.com</td>\n",
       "      <td>78946</td>\n",
       "      <td>bahti@domain.com</td>\n",
       "    </tr>\n",
       "    <tr>\n",
       "      <th>1</th>\n",
       "      <td>altaf@domain.com</td>\n",
       "      <td>85214</td>\n",
       "      <td>altaf@domain.com</td>\n",
       "    </tr>\n",
       "    <tr>\n",
       "      <th>2</th>\n",
       "      <td>rabia@domain.com</td>\n",
       "      <td>963258</td>\n",
       "      <td>rabia@domain.com</td>\n",
       "    </tr>\n",
       "  </tbody>\n",
       "</table>\n",
       "</div>"
      ],
      "text/plain": [
       "              email  Number          username\n",
       "0  bahti@domain.com   78946  bahti@domain.com\n",
       "1  altaf@domain.com   85214  altaf@domain.com\n",
       "2  rabia@domain.com  963258  rabia@domain.com"
      ]
     },
     "execution_count": 24,
     "metadata": {},
     "output_type": "execute_result"
    }
   ],
   "source": [
    "df3"
   ]
  },
  {
   "cell_type": "code",
   "execution_count": 28,
   "id": "f3347fb1-8f75-4fcd-9078-62917e7fe556",
   "metadata": {},
   "outputs": [],
   "source": [
    "stats=[(0, 3, 5), (1,\n",
    "1, 8), (2, 7,\n",
    "2), (6, 9, 4),\n",
    "(3, 2, 3), (5,\n",
    "4, 9), (1, 2,8)]"
   ]
  },
  {
   "cell_type": "code",
   "execution_count": 30,
   "id": "fbe228e2-712c-4519-8019-01333616b37f",
   "metadata": {},
   "outputs": [],
   "source": [
    "df=pd.DataFrame(stats,columns=[\"A\",\"B\",\"C\"])"
   ]
  },
  {
   "cell_type": "code",
   "execution_count": 33,
   "id": "55b8ba7f-bab7-4686-a1e8-b4b256fd6d69",
   "metadata": {},
   "outputs": [
    {
     "data": {
      "text/html": [
       "<div>\n",
       "<style scoped>\n",
       "    .dataframe tbody tr th:only-of-type {\n",
       "        vertical-align: middle;\n",
       "    }\n",
       "\n",
       "    .dataframe tbody tr th {\n",
       "        vertical-align: top;\n",
       "    }\n",
       "\n",
       "    .dataframe thead th {\n",
       "        text-align: right;\n",
       "    }\n",
       "</style>\n",
       "<table border=\"1\" class=\"dataframe\">\n",
       "  <thead>\n",
       "    <tr style=\"text-align: right;\">\n",
       "      <th></th>\n",
       "      <th>A</th>\n",
       "      <th>B</th>\n",
       "      <th>C</th>\n",
       "    </tr>\n",
       "  </thead>\n",
       "  <tbody>\n",
       "    <tr>\n",
       "      <th>3</th>\n",
       "      <td>6</td>\n",
       "      <td>9</td>\n",
       "      <td>4</td>\n",
       "    </tr>\n",
       "  </tbody>\n",
       "</table>\n",
       "</div>"
      ],
      "text/plain": [
       "   A  B  C\n",
       "3  6  9  4"
      ]
     },
     "execution_count": 33,
     "metadata": {},
     "output_type": "execute_result"
    }
   ],
   "source": [
    "df[df[\"A\"]>5]"
   ]
  },
  {
   "cell_type": "code",
   "execution_count": 35,
   "id": "61f1c95d-3dfa-409a-b4fb-c9420fb7d529",
   "metadata": {},
   "outputs": [
    {
     "data": {
      "text/html": [
       "<div>\n",
       "<style scoped>\n",
       "    .dataframe tbody tr th:only-of-type {\n",
       "        vertical-align: middle;\n",
       "    }\n",
       "\n",
       "    .dataframe tbody tr th {\n",
       "        vertical-align: top;\n",
       "    }\n",
       "\n",
       "    .dataframe thead th {\n",
       "        text-align: right;\n",
       "    }\n",
       "</style>\n",
       "<table border=\"1\" class=\"dataframe\">\n",
       "  <thead>\n",
       "    <tr style=\"text-align: right;\">\n",
       "      <th></th>\n",
       "      <th>A</th>\n",
       "      <th>B</th>\n",
       "      <th>C</th>\n",
       "    </tr>\n",
       "  </thead>\n",
       "  <tbody>\n",
       "    <tr>\n",
       "      <th>0</th>\n",
       "      <td>0</td>\n",
       "      <td>3</td>\n",
       "      <td>5</td>\n",
       "    </tr>\n",
       "    <tr>\n",
       "      <th>1</th>\n",
       "      <td>1</td>\n",
       "      <td>1</td>\n",
       "      <td>8</td>\n",
       "    </tr>\n",
       "    <tr>\n",
       "      <th>2</th>\n",
       "      <td>2</td>\n",
       "      <td>7</td>\n",
       "      <td>2</td>\n",
       "    </tr>\n",
       "    <tr>\n",
       "      <th>3</th>\n",
       "      <td>6</td>\n",
       "      <td>9</td>\n",
       "      <td>4</td>\n",
       "    </tr>\n",
       "    <tr>\n",
       "      <th>4</th>\n",
       "      <td>3</td>\n",
       "      <td>2</td>\n",
       "      <td>3</td>\n",
       "    </tr>\n",
       "    <tr>\n",
       "      <th>5</th>\n",
       "      <td>5</td>\n",
       "      <td>4</td>\n",
       "      <td>9</td>\n",
       "    </tr>\n",
       "    <tr>\n",
       "      <th>6</th>\n",
       "      <td>1</td>\n",
       "      <td>2</td>\n",
       "      <td>8</td>\n",
       "    </tr>\n",
       "  </tbody>\n",
       "</table>\n",
       "</div>"
      ],
      "text/plain": [
       "   A  B  C\n",
       "0  0  3  5\n",
       "1  1  1  8\n",
       "2  2  7  2\n",
       "3  6  9  4\n",
       "4  3  2  3\n",
       "5  5  4  9\n",
       "6  1  2  8"
      ]
     },
     "execution_count": 35,
     "metadata": {},
     "output_type": "execute_result"
    }
   ],
   "source": [
    "df[df[\"B\"]<10]"
   ]
  },
  {
   "cell_type": "code",
   "execution_count": 38,
   "id": "76ed4d86-eb48-414e-9e2f-54ec918849e3",
   "metadata": {},
   "outputs": [],
   "source": [
    "df5=df[df[\"A\"]>5] + df[df[\"B\"]<10]"
   ]
  },
  {
   "cell_type": "code",
   "execution_count": 39,
   "id": "51581c73-dc76-42a4-abe5-311b636b15c0",
   "metadata": {},
   "outputs": [
    {
     "data": {
      "text/html": [
       "<div>\n",
       "<style scoped>\n",
       "    .dataframe tbody tr th:only-of-type {\n",
       "        vertical-align: middle;\n",
       "    }\n",
       "\n",
       "    .dataframe tbody tr th {\n",
       "        vertical-align: top;\n",
       "    }\n",
       "\n",
       "    .dataframe thead th {\n",
       "        text-align: right;\n",
       "    }\n",
       "</style>\n",
       "<table border=\"1\" class=\"dataframe\">\n",
       "  <thead>\n",
       "    <tr style=\"text-align: right;\">\n",
       "      <th></th>\n",
       "      <th>A</th>\n",
       "      <th>B</th>\n",
       "      <th>C</th>\n",
       "    </tr>\n",
       "  </thead>\n",
       "  <tbody>\n",
       "    <tr>\n",
       "      <th>0</th>\n",
       "      <td>NaN</td>\n",
       "      <td>NaN</td>\n",
       "      <td>NaN</td>\n",
       "    </tr>\n",
       "    <tr>\n",
       "      <th>1</th>\n",
       "      <td>NaN</td>\n",
       "      <td>NaN</td>\n",
       "      <td>NaN</td>\n",
       "    </tr>\n",
       "    <tr>\n",
       "      <th>2</th>\n",
       "      <td>NaN</td>\n",
       "      <td>NaN</td>\n",
       "      <td>NaN</td>\n",
       "    </tr>\n",
       "    <tr>\n",
       "      <th>3</th>\n",
       "      <td>12.0</td>\n",
       "      <td>18.0</td>\n",
       "      <td>8.0</td>\n",
       "    </tr>\n",
       "    <tr>\n",
       "      <th>4</th>\n",
       "      <td>NaN</td>\n",
       "      <td>NaN</td>\n",
       "      <td>NaN</td>\n",
       "    </tr>\n",
       "    <tr>\n",
       "      <th>5</th>\n",
       "      <td>NaN</td>\n",
       "      <td>NaN</td>\n",
       "      <td>NaN</td>\n",
       "    </tr>\n",
       "    <tr>\n",
       "      <th>6</th>\n",
       "      <td>NaN</td>\n",
       "      <td>NaN</td>\n",
       "      <td>NaN</td>\n",
       "    </tr>\n",
       "  </tbody>\n",
       "</table>\n",
       "</div>"
      ],
      "text/plain": [
       "      A     B    C\n",
       "0   NaN   NaN  NaN\n",
       "1   NaN   NaN  NaN\n",
       "2   NaN   NaN  NaN\n",
       "3  12.0  18.0  8.0\n",
       "4   NaN   NaN  NaN\n",
       "5   NaN   NaN  NaN\n",
       "6   NaN   NaN  NaN"
      ]
     },
     "execution_count": 39,
     "metadata": {},
     "output_type": "execute_result"
    }
   ],
   "source": [
    "df5"
   ]
  },
  {
   "cell_type": "code",
   "execution_count": 40,
   "id": "fc257a9b-b296-48a3-a581-0c1ded67c6b0",
   "metadata": {},
   "outputs": [],
   "source": [
    "df=pd.DataFrame(std_data,columns=[\"Values\",\"Name\",\"Age\",\"Gender\",\"address\"])"
   ]
  },
  {
   "cell_type": "code",
   "execution_count": 41,
   "id": "a11980d4-c8e2-4331-8557-27ededd6f74c",
   "metadata": {},
   "outputs": [
    {
     "data": {
      "text/html": [
       "<div>\n",
       "<style scoped>\n",
       "    .dataframe tbody tr th:only-of-type {\n",
       "        vertical-align: middle;\n",
       "    }\n",
       "\n",
       "    .dataframe tbody tr th {\n",
       "        vertical-align: top;\n",
       "    }\n",
       "\n",
       "    .dataframe thead th {\n",
       "        text-align: right;\n",
       "    }\n",
       "</style>\n",
       "<table border=\"1\" class=\"dataframe\">\n",
       "  <thead>\n",
       "    <tr style=\"text-align: right;\">\n",
       "      <th></th>\n",
       "      <th>Values</th>\n",
       "      <th>Name</th>\n",
       "      <th>Age</th>\n",
       "      <th>Gender</th>\n",
       "      <th>address</th>\n",
       "    </tr>\n",
       "  </thead>\n",
       "  <tbody>\n",
       "    <tr>\n",
       "      <th>0</th>\n",
       "      <td>15</td>\n",
       "      <td>Varun</td>\n",
       "      <td>30</td>\n",
       "      <td>male</td>\n",
       "      <td>Chandigarh</td>\n",
       "    </tr>\n",
       "    <tr>\n",
       "      <th>1</th>\n",
       "      <td>20</td>\n",
       "      <td>Bakhtiar</td>\n",
       "      <td>30</td>\n",
       "      <td>male</td>\n",
       "      <td>Kolkata</td>\n",
       "    </tr>\n",
       "    <tr>\n",
       "      <th>2</th>\n",
       "      <td>25</td>\n",
       "      <td>Rabia</td>\n",
       "      <td>22</td>\n",
       "      <td>Female</td>\n",
       "      <td>Hyderabad</td>\n",
       "    </tr>\n",
       "  </tbody>\n",
       "</table>\n",
       "</div>"
      ],
      "text/plain": [
       "   Values      Name  Age  Gender     address\n",
       "0      15     Varun   30    male  Chandigarh\n",
       "1      20  Bakhtiar   30    male     Kolkata\n",
       "2      25     Rabia   22  Female   Hyderabad"
      ]
     },
     "execution_count": 41,
     "metadata": {},
     "output_type": "execute_result"
    }
   ],
   "source": [
    "df"
   ]
  },
  {
   "cell_type": "code",
   "execution_count": 42,
   "id": "1e4ce405-f852-47d3-82f5-bb3154ed5056",
   "metadata": {},
   "outputs": [
    {
     "data": {
      "text/plain": [
       "20.0"
      ]
     },
     "execution_count": 42,
     "metadata": {},
     "output_type": "execute_result"
    }
   ],
   "source": [
    "df[\"Values\"].mean()"
   ]
  },
  {
   "cell_type": "code",
   "execution_count": 43,
   "id": "d26ca821-a479-4c44-8318-f7a2c1d4d812",
   "metadata": {},
   "outputs": [
    {
     "data": {
      "text/plain": [
       "20.0"
      ]
     },
     "execution_count": 43,
     "metadata": {},
     "output_type": "execute_result"
    }
   ],
   "source": [
    "df[\"Values\"].median()"
   ]
  },
  {
   "cell_type": "code",
   "execution_count": 49,
   "id": "68f835db-f9b6-46c0-aa72-dc566e5be57c",
   "metadata": {},
   "outputs": [],
   "source": [
    "day={\"Date\":[\"2023-01-01\",\n",
    " \"2023-01-02\",\n",
    " \"2023-01-03\",\n",
    " \"2023-01-04\",\n",
    " \"2023-01-05\"]}"
   ]
  },
  {
   "cell_type": "code",
   "execution_count": 50,
   "id": "096a8b14-1881-49ce-8693-a23db7b0a339",
   "metadata": {},
   "outputs": [],
   "source": [
    "df10=pd.DataFrame(day)"
   ]
  },
  {
   "cell_type": "code",
   "execution_count": 55,
   "id": "6d7b077b-c3a7-4847-9e0c-6608ef9bd371",
   "metadata": {},
   "outputs": [],
   "source": [
    "df10[\"Weekdays\"]=[\"Sunday\",\"Monday\",\"Tuesday\",\"Wednesday\",\"Thursday\"]"
   ]
  },
  {
   "cell_type": "code",
   "execution_count": 56,
   "id": "a9425b52-ccc2-479d-a32d-62f85bf7a559",
   "metadata": {},
   "outputs": [
    {
     "data": {
      "text/html": [
       "<div>\n",
       "<style scoped>\n",
       "    .dataframe tbody tr th:only-of-type {\n",
       "        vertical-align: middle;\n",
       "    }\n",
       "\n",
       "    .dataframe tbody tr th {\n",
       "        vertical-align: top;\n",
       "    }\n",
       "\n",
       "    .dataframe thead th {\n",
       "        text-align: right;\n",
       "    }\n",
       "</style>\n",
       "<table border=\"1\" class=\"dataframe\">\n",
       "  <thead>\n",
       "    <tr style=\"text-align: right;\">\n",
       "      <th></th>\n",
       "      <th>Date</th>\n",
       "      <th>Weekdays</th>\n",
       "    </tr>\n",
       "  </thead>\n",
       "  <tbody>\n",
       "    <tr>\n",
       "      <th>0</th>\n",
       "      <td>2023-01-01</td>\n",
       "      <td>Sunday</td>\n",
       "    </tr>\n",
       "    <tr>\n",
       "      <th>1</th>\n",
       "      <td>2023-01-02</td>\n",
       "      <td>Monday</td>\n",
       "    </tr>\n",
       "    <tr>\n",
       "      <th>2</th>\n",
       "      <td>2023-01-03</td>\n",
       "      <td>Tuesday</td>\n",
       "    </tr>\n",
       "    <tr>\n",
       "      <th>3</th>\n",
       "      <td>2023-01-04</td>\n",
       "      <td>Wednesday</td>\n",
       "    </tr>\n",
       "    <tr>\n",
       "      <th>4</th>\n",
       "      <td>2023-01-05</td>\n",
       "      <td>Thursday</td>\n",
       "    </tr>\n",
       "  </tbody>\n",
       "</table>\n",
       "</div>"
      ],
      "text/plain": [
       "         Date   Weekdays\n",
       "0  2023-01-01     Sunday\n",
       "1  2023-01-02     Monday\n",
       "2  2023-01-03    Tuesday\n",
       "3  2023-01-04  Wednesday\n",
       "4  2023-01-05   Thursday"
      ]
     },
     "execution_count": 56,
     "metadata": {},
     "output_type": "execute_result"
    }
   ],
   "source": [
    "df10"
   ]
  },
  {
   "cell_type": "code",
   "execution_count": 3,
   "id": "68404133-d4aa-4fe6-b2b3-e15a4f0a5ff7",
   "metadata": {},
   "outputs": [],
   "source": [
    "input=[(14500,\"12/6/24\"),(2500,\"12/03/24\"),(8500,\"15/03/24\")]"
   ]
  },
  {
   "cell_type": "code",
   "execution_count": 4,
   "id": "dbe59bd7-7997-4547-9a40-830664c88903",
   "metadata": {},
   "outputs": [],
   "source": [
    "df11=pd.DataFrame(input,columns=[\"Sales\",\"Dates\"])"
   ]
  },
  {
   "cell_type": "code",
   "execution_count": 5,
   "id": "f9b25260-a9b2-46c9-8f97-af49f13a7db3",
   "metadata": {},
   "outputs": [
    {
     "data": {
      "text/html": [
       "<div>\n",
       "<style scoped>\n",
       "    .dataframe tbody tr th:only-of-type {\n",
       "        vertical-align: middle;\n",
       "    }\n",
       "\n",
       "    .dataframe tbody tr th {\n",
       "        vertical-align: top;\n",
       "    }\n",
       "\n",
       "    .dataframe thead th {\n",
       "        text-align: right;\n",
       "    }\n",
       "</style>\n",
       "<table border=\"1\" class=\"dataframe\">\n",
       "  <thead>\n",
       "    <tr style=\"text-align: right;\">\n",
       "      <th></th>\n",
       "      <th>Sales</th>\n",
       "      <th>Dates</th>\n",
       "    </tr>\n",
       "  </thead>\n",
       "  <tbody>\n",
       "    <tr>\n",
       "      <th>0</th>\n",
       "      <td>14500</td>\n",
       "      <td>12/6/24</td>\n",
       "    </tr>\n",
       "    <tr>\n",
       "      <th>1</th>\n",
       "      <td>2500</td>\n",
       "      <td>12/03/24</td>\n",
       "    </tr>\n",
       "    <tr>\n",
       "      <th>2</th>\n",
       "      <td>8500</td>\n",
       "      <td>15/03/24</td>\n",
       "    </tr>\n",
       "  </tbody>\n",
       "</table>\n",
       "</div>"
      ],
      "text/plain": [
       "   Sales     Dates\n",
       "0  14500   12/6/24\n",
       "1   2500  12/03/24\n",
       "2   8500  15/03/24"
      ]
     },
     "execution_count": 5,
     "metadata": {},
     "output_type": "execute_result"
    }
   ],
   "source": [
    "df11"
   ]
  },
  {
   "cell_type": "code",
   "execution_count": 9,
   "id": "2c6a9e5d-3e92-412d-9bb3-8af2f23b5aa1",
   "metadata": {},
   "outputs": [],
   "source": [
    "df11[\"Moving_Sales\"]=df11[\"Sales\"].mean()"
   ]
  },
  {
   "cell_type": "code",
   "execution_count": 7,
   "id": "6ad48a2d-c64f-4065-b720-116bcc6b17f9",
   "metadata": {},
   "outputs": [
    {
     "data": {
      "text/html": [
       "<div>\n",
       "<style scoped>\n",
       "    .dataframe tbody tr th:only-of-type {\n",
       "        vertical-align: middle;\n",
       "    }\n",
       "\n",
       "    .dataframe tbody tr th {\n",
       "        vertical-align: top;\n",
       "    }\n",
       "\n",
       "    .dataframe thead th {\n",
       "        text-align: right;\n",
       "    }\n",
       "</style>\n",
       "<table border=\"1\" class=\"dataframe\">\n",
       "  <thead>\n",
       "    <tr style=\"text-align: right;\">\n",
       "      <th></th>\n",
       "      <th>Sales</th>\n",
       "      <th>Dates</th>\n",
       "      <th>Moving_Sales</th>\n",
       "    </tr>\n",
       "  </thead>\n",
       "  <tbody>\n",
       "    <tr>\n",
       "      <th>0</th>\n",
       "      <td>14500</td>\n",
       "      <td>12/6/24</td>\n",
       "      <td>8500.0</td>\n",
       "    </tr>\n",
       "    <tr>\n",
       "      <th>1</th>\n",
       "      <td>2500</td>\n",
       "      <td>12/03/24</td>\n",
       "      <td>8500.0</td>\n",
       "    </tr>\n",
       "    <tr>\n",
       "      <th>2</th>\n",
       "      <td>8500</td>\n",
       "      <td>15/03/24</td>\n",
       "      <td>8500.0</td>\n",
       "    </tr>\n",
       "  </tbody>\n",
       "</table>\n",
       "</div>"
      ],
      "text/plain": [
       "   Sales     Dates  Moving_Sales\n",
       "0  14500   12/6/24        8500.0\n",
       "1   2500  12/03/24        8500.0\n",
       "2   8500  15/03/24        8500.0"
      ]
     },
     "execution_count": 7,
     "metadata": {},
     "output_type": "execute_result"
    }
   ],
   "source": [
    "df11"
   ]
  },
  {
   "cell_type": "code",
   "execution_count": null,
   "id": "c4563102-64ab-4114-aee7-251a7f9c63ae",
   "metadata": {},
   "outputs": [],
   "source": [
    "\n"
   ]
  },
  {
   "cell_type": "code",
   "execution_count": null,
   "id": "a424f6c4-1aac-4470-9aa0-a88252650105",
   "metadata": {},
   "outputs": [],
   "source": []
  }
 ],
 "metadata": {
  "kernelspec": {
   "display_name": "Python 3 (ipykernel)",
   "language": "python",
   "name": "python3"
  },
  "language_info": {
   "codemirror_mode": {
    "name": "ipython",
    "version": 3
   },
   "file_extension": ".py",
   "mimetype": "text/x-python",
   "name": "python",
   "nbconvert_exporter": "python",
   "pygments_lexer": "ipython3",
   "version": "3.10.8"
  }
 },
 "nbformat": 4,
 "nbformat_minor": 5
}
